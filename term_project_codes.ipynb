{
 "cells": [
  {
   "cell_type": "markdown",
   "metadata": {},
   "source": [
    "# Importing libraries and functions used"
   ]
  },
  {
   "cell_type": "code",
   "execution_count": 1,
   "metadata": {},
   "outputs": [],
   "source": [
    "import pandas as pd\n",
    "import numpy as np\n",
    "import matplotlib.pyplot as plt\n",
    "import random\n",
    "from collections import Counter\n",
    "from sklearn.preprocessing import LabelEncoder\n",
    "from sklearn.model_selection import train_test_split\n",
    "from sklearn.neighbors import KNeighborsClassifier\n",
    "from sklearn import metrics\n",
    "from sklearn.metrics import confusion_matrix, f1_score,precision_score,recall_score\n",
    "from sklearn.metrics import plot_confusion_matrix"
   ]
  },
  {
   "cell_type": "markdown",
   "metadata": {},
   "source": [
    "# Loading the dataset"
   ]
  },
  {
   "cell_type": "code",
   "execution_count": 2,
   "metadata": {
    "scrolled": false
   },
   "outputs": [
    {
     "name": "stderr",
     "output_type": "stream",
     "text": [
      "c:\\users\\yasse\\appdata\\local\\programs\\python\\python38\\lib\\site-packages\\IPython\\core\\interactiveshell.py:3165: DtypeWarning: Columns (7,8) have mixed types.Specify dtype option on import or set low_memory=False.\n",
      "  has_raised = await self.run_ast_nodes(code_ast.body, cell_name,\n"
     ]
    }
   ],
   "source": [
    "dataset = pd.read_csv('connectionlossdata.csv')"
   ]
  },
  {
   "cell_type": "code",
   "execution_count": 3,
   "metadata": {},
   "outputs": [
    {
     "data": {
      "text/html": [
       "<div>\n",
       "<style scoped>\n",
       "    .dataframe tbody tr th:only-of-type {\n",
       "        vertical-align: middle;\n",
       "    }\n",
       "\n",
       "    .dataframe tbody tr th {\n",
       "        vertical-align: top;\n",
       "    }\n",
       "\n",
       "    .dataframe thead th {\n",
       "        text-align: right;\n",
       "    }\n",
       "</style>\n",
       "<table border=\"1\" class=\"dataframe\">\n",
       "  <thead>\n",
       "    <tr style=\"text-align: right;\">\n",
       "      <th></th>\n",
       "      <th>Unnamed: 0</th>\n",
       "      <th>TOPLAMSAAT</th>\n",
       "      <th>SORUNSAYISINET</th>\n",
       "      <th>PortErrorCount</th>\n",
       "      <th>LostCarrierCount</th>\n",
       "      <th>GecenAyPortErrorSayisi</th>\n",
       "      <th>GecmisFark</th>\n",
       "      <th>Kopma</th>\n",
       "      <th>Atlak</th>\n",
       "      <th>POSSEHIR</th>\n",
       "      <th>POSSEMT</th>\n",
       "      <th>SANTRALADI</th>\n",
       "      <th>GeneralDate</th>\n",
       "      <th>anonimid</th>\n",
       "    </tr>\n",
       "  </thead>\n",
       "  <tbody>\n",
       "    <tr>\n",
       "      <th>0</th>\n",
       "      <td>0</td>\n",
       "      <td>22</td>\n",
       "      <td>1</td>\n",
       "      <td>0</td>\n",
       "      <td>0</td>\n",
       "      <td>0</td>\n",
       "      <td>0</td>\n",
       "      <td>NaN</td>\n",
       "      <td>NaN</td>\n",
       "      <td>Edi̇rne</td>\n",
       "      <td>ŞÜKRÜPAŞA</td>\n",
       "      <td>EDİRNE-1-54</td>\n",
       "      <td>2020-12-01</td>\n",
       "      <td>14216756</td>\n",
       "    </tr>\n",
       "    <tr>\n",
       "      <th>1</th>\n",
       "      <td>1</td>\n",
       "      <td>22</td>\n",
       "      <td>1</td>\n",
       "      <td>0</td>\n",
       "      <td>0</td>\n",
       "      <td>0</td>\n",
       "      <td>0</td>\n",
       "      <td>NaN</td>\n",
       "      <td>NaN</td>\n",
       "      <td>Edi̇rne</td>\n",
       "      <td>ŞÜKRÜPAŞA</td>\n",
       "      <td>EDİRNE-İSTASYON-54</td>\n",
       "      <td>2020-12-01</td>\n",
       "      <td>14216756</td>\n",
       "    </tr>\n",
       "    <tr>\n",
       "      <th>2</th>\n",
       "      <td>2</td>\n",
       "      <td>46</td>\n",
       "      <td>3</td>\n",
       "      <td>1</td>\n",
       "      <td>0</td>\n",
       "      <td>0</td>\n",
       "      <td>1</td>\n",
       "      <td>NaN</td>\n",
       "      <td>NaN</td>\n",
       "      <td>Edi̇rne</td>\n",
       "      <td>ŞÜKRÜPAŞA</td>\n",
       "      <td>EDİRNE-1-54</td>\n",
       "      <td>2020-12-02</td>\n",
       "      <td>14216756</td>\n",
       "    </tr>\n",
       "    <tr>\n",
       "      <th>3</th>\n",
       "      <td>3</td>\n",
       "      <td>46</td>\n",
       "      <td>3</td>\n",
       "      <td>1</td>\n",
       "      <td>0</td>\n",
       "      <td>0</td>\n",
       "      <td>1</td>\n",
       "      <td>NaN</td>\n",
       "      <td>NaN</td>\n",
       "      <td>Edi̇rne</td>\n",
       "      <td>ŞÜKRÜPAŞA</td>\n",
       "      <td>EDİRNE-İSTASYON-54</td>\n",
       "      <td>2020-12-02</td>\n",
       "      <td>14216756</td>\n",
       "    </tr>\n",
       "    <tr>\n",
       "      <th>4</th>\n",
       "      <td>4</td>\n",
       "      <td>50</td>\n",
       "      <td>3</td>\n",
       "      <td>1</td>\n",
       "      <td>0</td>\n",
       "      <td>0</td>\n",
       "      <td>1</td>\n",
       "      <td>NaN</td>\n",
       "      <td>NaN</td>\n",
       "      <td>Edi̇rne</td>\n",
       "      <td>ŞÜKRÜPAŞA</td>\n",
       "      <td>EDİRNE-1-54</td>\n",
       "      <td>2020-12-03</td>\n",
       "      <td>14216756</td>\n",
       "    </tr>\n",
       "    <tr>\n",
       "      <th>...</th>\n",
       "      <td>...</td>\n",
       "      <td>...</td>\n",
       "      <td>...</td>\n",
       "      <td>...</td>\n",
       "      <td>...</td>\n",
       "      <td>...</td>\n",
       "      <td>...</td>\n",
       "      <td>...</td>\n",
       "      <td>...</td>\n",
       "      <td>...</td>\n",
       "      <td>...</td>\n",
       "      <td>...</td>\n",
       "      <td>...</td>\n",
       "      <td>...</td>\n",
       "    </tr>\n",
       "    <tr>\n",
       "      <th>4835374</th>\n",
       "      <td>4835374</td>\n",
       "      <td>12</td>\n",
       "      <td>2</td>\n",
       "      <td>1</td>\n",
       "      <td>0</td>\n",
       "      <td>0</td>\n",
       "      <td>1</td>\n",
       "      <td>NaN</td>\n",
       "      <td>NaN</td>\n",
       "      <td>Bursa</td>\n",
       "      <td>GEMLİK</td>\n",
       "      <td>GEMLİK-40</td>\n",
       "      <td>2020-12-13</td>\n",
       "      <td>10851226</td>\n",
       "    </tr>\n",
       "    <tr>\n",
       "      <th>4835375</th>\n",
       "      <td>4835375</td>\n",
       "      <td>0</td>\n",
       "      <td>2</td>\n",
       "      <td>0</td>\n",
       "      <td>0</td>\n",
       "      <td>0</td>\n",
       "      <td>0</td>\n",
       "      <td>NaN</td>\n",
       "      <td>NaN</td>\n",
       "      <td>İstanbul (anadolu)</td>\n",
       "      <td>büyükçekmece</td>\n",
       "      <td>BÜYÜK ÇEKMECE</td>\n",
       "      <td>2020-12-13</td>\n",
       "      <td>32142961</td>\n",
       "    </tr>\n",
       "    <tr>\n",
       "      <th>4835376</th>\n",
       "      <td>4835376</td>\n",
       "      <td>4</td>\n",
       "      <td>2</td>\n",
       "      <td>0</td>\n",
       "      <td>0</td>\n",
       "      <td>0</td>\n",
       "      <td>0</td>\n",
       "      <td>NaN</td>\n",
       "      <td>NaN</td>\n",
       "      <td>Kocaeli̇</td>\n",
       "      <td>İZMİT</td>\n",
       "      <td>İZMİT-100</td>\n",
       "      <td>2020-12-13</td>\n",
       "      <td>41856739</td>\n",
       "    </tr>\n",
       "    <tr>\n",
       "      <th>4835377</th>\n",
       "      <td>4835377</td>\n",
       "      <td>11</td>\n",
       "      <td>1</td>\n",
       "      <td>0</td>\n",
       "      <td>0</td>\n",
       "      <td>0</td>\n",
       "      <td>0</td>\n",
       "      <td>NaN</td>\n",
       "      <td>NaN</td>\n",
       "      <td>Ankara</td>\n",
       "      <td>KEÇİÖREN</td>\n",
       "      <td>ETLİK-15</td>\n",
       "      <td>2020-12-13</td>\n",
       "      <td>11126214</td>\n",
       "    </tr>\n",
       "    <tr>\n",
       "      <th>4835378</th>\n",
       "      <td>4835378</td>\n",
       "      <td>11</td>\n",
       "      <td>1</td>\n",
       "      <td>0</td>\n",
       "      <td>0</td>\n",
       "      <td>0</td>\n",
       "      <td>0</td>\n",
       "      <td>NaN</td>\n",
       "      <td>NaN</td>\n",
       "      <td>İstanbul (anadolu)</td>\n",
       "      <td>MALTEPE</td>\n",
       "      <td>K.BAKKALKÖY</td>\n",
       "      <td>2020-12-13</td>\n",
       "      <td>35777409</td>\n",
       "    </tr>\n",
       "  </tbody>\n",
       "</table>\n",
       "<p>4835379 rows × 14 columns</p>\n",
       "</div>"
      ],
      "text/plain": [
       "         Unnamed: 0  TOPLAMSAAT  SORUNSAYISINET  PortErrorCount  \\\n",
       "0                 0          22               1               0   \n",
       "1                 1          22               1               0   \n",
       "2                 2          46               3               1   \n",
       "3                 3          46               3               1   \n",
       "4                 4          50               3               1   \n",
       "...             ...         ...             ...             ...   \n",
       "4835374     4835374          12               2               1   \n",
       "4835375     4835375           0               2               0   \n",
       "4835376     4835376           4               2               0   \n",
       "4835377     4835377          11               1               0   \n",
       "4835378     4835378          11               1               0   \n",
       "\n",
       "         LostCarrierCount  GecenAyPortErrorSayisi  GecmisFark Kopma Atlak  \\\n",
       "0                       0                       0           0   NaN   NaN   \n",
       "1                       0                       0           0   NaN   NaN   \n",
       "2                       0                       0           1   NaN   NaN   \n",
       "3                       0                       0           1   NaN   NaN   \n",
       "4                       0                       0           1   NaN   NaN   \n",
       "...                   ...                     ...         ...   ...   ...   \n",
       "4835374                 0                       0           1   NaN   NaN   \n",
       "4835375                 0                       0           0   NaN   NaN   \n",
       "4835376                 0                       0           0   NaN   NaN   \n",
       "4835377                 0                       0           0   NaN   NaN   \n",
       "4835378                 0                       0           0   NaN   NaN   \n",
       "\n",
       "                   POSSEHIR       POSSEMT          SANTRALADI GeneralDate  \\\n",
       "0                   Edi̇rne     ŞÜKRÜPAŞA         EDİRNE-1-54  2020-12-01   \n",
       "1                   Edi̇rne     ŞÜKRÜPAŞA  EDİRNE-İSTASYON-54  2020-12-01   \n",
       "2                   Edi̇rne     ŞÜKRÜPAŞA         EDİRNE-1-54  2020-12-02   \n",
       "3                   Edi̇rne     ŞÜKRÜPAŞA  EDİRNE-İSTASYON-54  2020-12-02   \n",
       "4                   Edi̇rne     ŞÜKRÜPAŞA         EDİRNE-1-54  2020-12-03   \n",
       "...                     ...           ...                 ...         ...   \n",
       "4835374              Bursa         GEMLİK           GEMLİK-40  2020-12-13   \n",
       "4835375  İstanbul (anadolu)  büyükçekmece       BÜYÜK ÇEKMECE  2020-12-13   \n",
       "4835376           Kocaeli̇          İZMİT           İZMİT-100  2020-12-13   \n",
       "4835377             Ankara       KEÇİÖREN            ETLİK-15  2020-12-13   \n",
       "4835378  İstanbul (anadolu)       MALTEPE         K.BAKKALKÖY  2020-12-13   \n",
       "\n",
       "         anonimid  \n",
       "0        14216756  \n",
       "1        14216756  \n",
       "2        14216756  \n",
       "3        14216756  \n",
       "4        14216756  \n",
       "...           ...  \n",
       "4835374  10851226  \n",
       "4835375  32142961  \n",
       "4835376  41856739  \n",
       "4835377  11126214  \n",
       "4835378  35777409  \n",
       "\n",
       "[4835379 rows x 14 columns]"
      ]
     },
     "execution_count": 3,
     "metadata": {},
     "output_type": "execute_result"
    }
   ],
   "source": [
    "#inspecting the first 5 rows of the dataset\n",
    "dataset"
   ]
  },
  {
   "cell_type": "markdown",
   "metadata": {},
   "source": [
    "# Data processing and cleaning"
   ]
  },
  {
   "cell_type": "code",
   "execution_count": 4,
   "metadata": {},
   "outputs": [],
   "source": [
    "#filling the null cells in the 'kopma' columun with 'saglam'\n",
    "dataset['Kopma']= dataset['Kopma'].fillna('saglam')"
   ]
  },
  {
   "cell_type": "code",
   "execution_count": 5,
   "metadata": {},
   "outputs": [],
   "source": [
    "#dropping the useless cilumn 'Unnamed: 0'\n",
    "dataset = dataset.drop(columns=['Unnamed: 0', 'GeneralDate', 'anonimid'])"
   ]
  },
  {
   "cell_type": "code",
   "execution_count": 6,
   "metadata": {},
   "outputs": [
    {
     "data": {
      "text/plain": [
       "Counter({'saglam': 4833722,\n",
       "         'Sık Sık Kopuyor': 932,\n",
       "         'İnternete Erişemiyor': 725})"
      ]
     },
     "execution_count": 6,
     "metadata": {},
     "output_type": "execute_result"
    }
   ],
   "source": [
    "#inspecting the values existing in the column that we need to predict\n",
    "Counter(dataset['Kopma'])"
   ]
  },
  {
   "cell_type": "code",
   "execution_count": 7,
   "metadata": {},
   "outputs": [],
   "source": [
    "# function used to merge the 'Sık Sık Kopuyor' and 'İnternete Erişemiyor' in one category\n",
    "def merge(x):\n",
    "    if x == 'Sık Sık Kopuyor' or x == 'İnternete Erişemiyor':\n",
    "        return 0\n",
    "    else:\n",
    "        return 1"
   ]
  },
  {
   "cell_type": "code",
   "execution_count": 8,
   "metadata": {},
   "outputs": [],
   "source": [
    "dataset['Kopma'] = dataset['Kopma'].apply(merge)"
   ]
  },
  {
   "cell_type": "code",
   "execution_count": 9,
   "metadata": {},
   "outputs": [
    {
     "data": {
      "text/plain": [
       "Counter({1: 4833722, 0: 1657})"
      ]
     },
     "execution_count": 9,
     "metadata": {},
     "output_type": "execute_result"
    }
   ],
   "source": [
    "Counter(dataset['Kopma'])"
   ]
  },
  {
   "cell_type": "code",
   "execution_count": 10,
   "metadata": {},
   "outputs": [],
   "source": [
    "# balancing the number of 1's and 0's in 'kopma' column\n",
    "index = dataset[dataset['Kopma'] == 1].index[5000:]\n",
    "dataset.drop(index , inplace=True)"
   ]
  },
  {
   "cell_type": "code",
   "execution_count": 11,
   "metadata": {},
   "outputs": [
    {
     "data": {
      "text/plain": [
       "Counter({1: 5000, 0: 1657})"
      ]
     },
     "execution_count": 11,
     "metadata": {},
     "output_type": "execute_result"
    }
   ],
   "source": [
    "# now we shoild have 5000 of ones and 1657 zeros\n",
    "Counter(dataset['Kopma'])\n"
   ]
  },
  {
   "cell_type": "code",
   "execution_count": 12,
   "metadata": {},
   "outputs": [
    {
     "name": "stdout",
     "output_type": "stream",
     "text": [
      "TOPLAMSAAT : 0\n",
      "SORUNSAYISINET : 0\n",
      "PortErrorCount : 0\n",
      "LostCarrierCount : 0\n",
      "GecenAyPortErrorSayisi : 0\n",
      "GecmisFark : 0\n",
      "Kopma : 0\n",
      "Atlak : 6657\n",
      "POSSEHIR : 0\n",
      "POSSEMT : 270\n",
      "SANTRALADI : 44\n"
     ]
    }
   ],
   "source": [
    "# trying to find which columns has null values so we can fill or drop them\n",
    "for col in dataset.columns:\n",
    "    print(col,':',dataset[col].isnull().sum())\n",
    "    "
   ]
  },
  {
   "cell_type": "code",
   "execution_count": 13,
   "metadata": {},
   "outputs": [],
   "source": [
    "# filling the missing rows with dummy values\n",
    "dataset['Atlak']= dataset['Kopma'].fillna('AA')\n",
    "dataset['POSSEHIR']= dataset['POSSEHIR'].fillna('BB')\n",
    "dataset['POSSEMT']= dataset['POSSEMT'].fillna('CC')\n",
    "dataset['SANTRALADI']= dataset['SANTRALADI'].fillna('DD')\n"
   ]
  },
  {
   "cell_type": "code",
   "execution_count": 14,
   "metadata": {},
   "outputs": [
    {
     "data": {
      "text/html": [
       "<div>\n",
       "<style scoped>\n",
       "    .dataframe tbody tr th:only-of-type {\n",
       "        vertical-align: middle;\n",
       "    }\n",
       "\n",
       "    .dataframe tbody tr th {\n",
       "        vertical-align: top;\n",
       "    }\n",
       "\n",
       "    .dataframe thead th {\n",
       "        text-align: right;\n",
       "    }\n",
       "</style>\n",
       "<table border=\"1\" class=\"dataframe\">\n",
       "  <thead>\n",
       "    <tr style=\"text-align: right;\">\n",
       "      <th></th>\n",
       "      <th>TOPLAMSAAT</th>\n",
       "      <th>SORUNSAYISINET</th>\n",
       "      <th>PortErrorCount</th>\n",
       "      <th>LostCarrierCount</th>\n",
       "      <th>GecenAyPortErrorSayisi</th>\n",
       "      <th>GecmisFark</th>\n",
       "      <th>Kopma</th>\n",
       "      <th>Atlak</th>\n",
       "      <th>POSSEHIR</th>\n",
       "      <th>POSSEMT</th>\n",
       "      <th>SANTRALADI</th>\n",
       "    </tr>\n",
       "  </thead>\n",
       "  <tbody>\n",
       "    <tr>\n",
       "      <th>0</th>\n",
       "      <td>22</td>\n",
       "      <td>0</td>\n",
       "      <td>0</td>\n",
       "      <td>0</td>\n",
       "      <td>0</td>\n",
       "      <td>10</td>\n",
       "      <td>1</td>\n",
       "      <td>1</td>\n",
       "      <td>21</td>\n",
       "      <td>299</td>\n",
       "      <td>96</td>\n",
       "    </tr>\n",
       "    <tr>\n",
       "      <th>1</th>\n",
       "      <td>22</td>\n",
       "      <td>0</td>\n",
       "      <td>0</td>\n",
       "      <td>0</td>\n",
       "      <td>0</td>\n",
       "      <td>10</td>\n",
       "      <td>1</td>\n",
       "      <td>1</td>\n",
       "      <td>21</td>\n",
       "      <td>299</td>\n",
       "      <td>97</td>\n",
       "    </tr>\n",
       "    <tr>\n",
       "      <th>2</th>\n",
       "      <td>46</td>\n",
       "      <td>2</td>\n",
       "      <td>1</td>\n",
       "      <td>0</td>\n",
       "      <td>0</td>\n",
       "      <td>11</td>\n",
       "      <td>1</td>\n",
       "      <td>1</td>\n",
       "      <td>21</td>\n",
       "      <td>299</td>\n",
       "      <td>96</td>\n",
       "    </tr>\n",
       "    <tr>\n",
       "      <th>3</th>\n",
       "      <td>46</td>\n",
       "      <td>2</td>\n",
       "      <td>1</td>\n",
       "      <td>0</td>\n",
       "      <td>0</td>\n",
       "      <td>11</td>\n",
       "      <td>1</td>\n",
       "      <td>1</td>\n",
       "      <td>21</td>\n",
       "      <td>299</td>\n",
       "      <td>97</td>\n",
       "    </tr>\n",
       "    <tr>\n",
       "      <th>4</th>\n",
       "      <td>50</td>\n",
       "      <td>2</td>\n",
       "      <td>1</td>\n",
       "      <td>0</td>\n",
       "      <td>0</td>\n",
       "      <td>11</td>\n",
       "      <td>1</td>\n",
       "      <td>1</td>\n",
       "      <td>21</td>\n",
       "      <td>299</td>\n",
       "      <td>96</td>\n",
       "    </tr>\n",
       "    <tr>\n",
       "      <th>...</th>\n",
       "      <td>...</td>\n",
       "      <td>...</td>\n",
       "      <td>...</td>\n",
       "      <td>...</td>\n",
       "      <td>...</td>\n",
       "      <td>...</td>\n",
       "      <td>...</td>\n",
       "      <td>...</td>\n",
       "      <td>...</td>\n",
       "      <td>...</td>\n",
       "      <td>...</td>\n",
       "    </tr>\n",
       "    <tr>\n",
       "      <th>4829430</th>\n",
       "      <td>48</td>\n",
       "      <td>2</td>\n",
       "      <td>0</td>\n",
       "      <td>0</td>\n",
       "      <td>0</td>\n",
       "      <td>10</td>\n",
       "      <td>0</td>\n",
       "      <td>0</td>\n",
       "      <td>78</td>\n",
       "      <td>147</td>\n",
       "      <td>188</td>\n",
       "    </tr>\n",
       "    <tr>\n",
       "      <th>4829683</th>\n",
       "      <td>6</td>\n",
       "      <td>5</td>\n",
       "      <td>1</td>\n",
       "      <td>0</td>\n",
       "      <td>0</td>\n",
       "      <td>11</td>\n",
       "      <td>0</td>\n",
       "      <td>0</td>\n",
       "      <td>78</td>\n",
       "      <td>281</td>\n",
       "      <td>52</td>\n",
       "    </tr>\n",
       "    <tr>\n",
       "      <th>4829684</th>\n",
       "      <td>25</td>\n",
       "      <td>8</td>\n",
       "      <td>1</td>\n",
       "      <td>1</td>\n",
       "      <td>0</td>\n",
       "      <td>11</td>\n",
       "      <td>0</td>\n",
       "      <td>0</td>\n",
       "      <td>78</td>\n",
       "      <td>281</td>\n",
       "      <td>52</td>\n",
       "    </tr>\n",
       "    <tr>\n",
       "      <th>4829686</th>\n",
       "      <td>23</td>\n",
       "      <td>0</td>\n",
       "      <td>1</td>\n",
       "      <td>0</td>\n",
       "      <td>0</td>\n",
       "      <td>11</td>\n",
       "      <td>0</td>\n",
       "      <td>0</td>\n",
       "      <td>78</td>\n",
       "      <td>281</td>\n",
       "      <td>52</td>\n",
       "    </tr>\n",
       "    <tr>\n",
       "      <th>4834614</th>\n",
       "      <td>0</td>\n",
       "      <td>0</td>\n",
       "      <td>1</td>\n",
       "      <td>0</td>\n",
       "      <td>0</td>\n",
       "      <td>11</td>\n",
       "      <td>0</td>\n",
       "      <td>0</td>\n",
       "      <td>81</td>\n",
       "      <td>35</td>\n",
       "      <td>63</td>\n",
       "    </tr>\n",
       "  </tbody>\n",
       "</table>\n",
       "<p>6657 rows × 11 columns</p>\n",
       "</div>"
      ],
      "text/plain": [
       "         TOPLAMSAAT  SORUNSAYISINET  PortErrorCount  LostCarrierCount  \\\n",
       "0                22               0               0                 0   \n",
       "1                22               0               0                 0   \n",
       "2                46               2               1                 0   \n",
       "3                46               2               1                 0   \n",
       "4                50               2               1                 0   \n",
       "...             ...             ...             ...               ...   \n",
       "4829430          48               2               0                 0   \n",
       "4829683           6               5               1                 0   \n",
       "4829684          25               8               1                 1   \n",
       "4829686          23               0               1                 0   \n",
       "4834614           0               0               1                 0   \n",
       "\n",
       "         GecenAyPortErrorSayisi  GecmisFark  Kopma  Atlak  POSSEHIR  POSSEMT  \\\n",
       "0                             0          10      1      1        21      299   \n",
       "1                             0          10      1      1        21      299   \n",
       "2                             0          11      1      1        21      299   \n",
       "3                             0          11      1      1        21      299   \n",
       "4                             0          11      1      1        21      299   \n",
       "...                         ...         ...    ...    ...       ...      ...   \n",
       "4829430                       0          10      0      0        78      147   \n",
       "4829683                       0          11      0      0        78      281   \n",
       "4829684                       0          11      0      0        78      281   \n",
       "4829686                       0          11      0      0        78      281   \n",
       "4834614                       0          11      0      0        81       35   \n",
       "\n",
       "         SANTRALADI  \n",
       "0                96  \n",
       "1                97  \n",
       "2                96  \n",
       "3                97  \n",
       "4                96  \n",
       "...             ...  \n",
       "4829430         188  \n",
       "4829683          52  \n",
       "4829684          52  \n",
       "4829686          52  \n",
       "4834614          63  \n",
       "\n",
       "[6657 rows x 11 columns]"
      ]
     },
     "execution_count": 14,
     "metadata": {},
     "output_type": "execute_result"
    }
   ],
   "source": [
    "#label encoding the data\n",
    "label_encoder = LabelEncoder()\n",
    "dataset = dataset.apply(LabelEncoder().fit_transform)\n",
    "dataset"
   ]
  },
  {
   "cell_type": "markdown",
   "metadata": {},
   "source": [
    "# Trayining two different models"
   ]
  },
  {
   "cell_type": "code",
   "execution_count": 15,
   "metadata": {},
   "outputs": [],
   "source": [
    "#geting labels column and data columns\n",
    "y = dataset['Kopma'] # labels\n",
    "X = dataset.drop(columns=['Kopma']) # data to be trained and tested on"
   ]
  },
  {
   "cell_type": "code",
   "execution_count": 16,
   "metadata": {},
   "outputs": [
    {
     "data": {
      "text/plain": [
       "(         TOPLAMSAAT  SORUNSAYISINET  PortErrorCount  LostCarrierCount  \\\n",
       " 0                22               0               0                 0   \n",
       " 1                22               0               0                 0   \n",
       " 2                46               2               1                 0   \n",
       " 3                46               2               1                 0   \n",
       " 4                50               2               1                 0   \n",
       " ...             ...             ...             ...               ...   \n",
       " 4829430          48               2               0                 0   \n",
       " 4829683           6               5               1                 0   \n",
       " 4829684          25               8               1                 1   \n",
       " 4829686          23               0               1                 0   \n",
       " 4834614           0               0               1                 0   \n",
       " \n",
       "          GecenAyPortErrorSayisi  GecmisFark  Atlak  POSSEHIR  POSSEMT  \\\n",
       " 0                             0          10      1        21      299   \n",
       " 1                             0          10      1        21      299   \n",
       " 2                             0          11      1        21      299   \n",
       " 3                             0          11      1        21      299   \n",
       " 4                             0          11      1        21      299   \n",
       " ...                         ...         ...    ...       ...      ...   \n",
       " 4829430                       0          10      0        78      147   \n",
       " 4829683                       0          11      0        78      281   \n",
       " 4829684                       0          11      0        78      281   \n",
       " 4829686                       0          11      0        78      281   \n",
       " 4834614                       0          11      0        81       35   \n",
       " \n",
       "          SANTRALADI  \n",
       " 0                96  \n",
       " 1                97  \n",
       " 2                96  \n",
       " 3                97  \n",
       " 4                96  \n",
       " ...             ...  \n",
       " 4829430         188  \n",
       " 4829683          52  \n",
       " 4829684          52  \n",
       " 4829686          52  \n",
       " 4834614          63  \n",
       " \n",
       " [6657 rows x 10 columns],\n",
       " 0          1\n",
       " 1          1\n",
       " 2          1\n",
       " 3          1\n",
       " 4          1\n",
       "           ..\n",
       " 4829430    0\n",
       " 4829683    0\n",
       " 4829684    0\n",
       " 4829686    0\n",
       " 4834614    0\n",
       " Name: Kopma, Length: 6657, dtype: int64)"
      ]
     },
     "execution_count": 16,
     "metadata": {},
     "output_type": "execute_result"
    }
   ],
   "source": [
    "#getting data ready to be used for training\n",
    "x = X.iloc[:,:]\n",
    "y = y.iloc[:]\n",
    "x,y"
   ]
  },
  {
   "cell_type": "code",
   "execution_count": 17,
   "metadata": {},
   "outputs": [],
   "source": [
    "# train, test seperation\n",
    "x_train, x_test, y_train, y_test = train_test_split(x,y, test_size=0.20, random_state = 1)"
   ]
  },
  {
   "cell_type": "code",
   "execution_count": 18,
   "metadata": {},
   "outputs": [
    {
     "data": {
      "text/plain": [
       "KNeighborsClassifier()"
      ]
     },
     "execution_count": 18,
     "metadata": {},
     "output_type": "execute_result"
    }
   ],
   "source": [
    "# KNN Model With number of neighbors = 5\n",
    "clf = KNeighborsClassifier(n_neighbors=5)\n",
    "clf.fit(x_train, y_train)\n"
   ]
  },
  {
   "cell_type": "code",
   "execution_count": 19,
   "metadata": {},
   "outputs": [
    {
     "name": "stdout",
     "output_type": "stream",
     "text": [
      "KNN accuracy is:  0.9542042042042042\n",
      "KNN Precision is:  0.9547169811320755\n",
      "KNN Recall is:  0.9873170731707317\n"
     ]
    }
   ],
   "source": [
    "# Evaluation Metrics\n",
    "# three four different evaluation matrics have been used in order to \n",
    "# estimate the performance of the model\n",
    "# Accuracy\n",
    "KNN_acc = clf.score(x_test, y_test)\n",
    "print(\"KNN accuracy is: \",KNN_acc)\n",
    "\n",
    "# Precision\n",
    "y_pred = clf.predict(x_test)\n",
    "KNN_precision_score = precision_score(y_test,y_pred)\n",
    "print(\"KNN Precision is: \",KNN_precision_score)\n",
    "\n",
    "# Recall (Senstivity)\n",
    "KNN_recall = recall_score(y_test,y_pred)\n",
    "print(\"KNN Recall is: \",KNN_recall)"
   ]
  },
  {
   "cell_type": "code",
   "execution_count": 20,
   "metadata": {},
   "outputs": [
    {
     "data": {
      "text/plain": [
       "<sklearn.metrics._plot.confusion_matrix.ConfusionMatrixDisplay at 0x29094ac8d30>"
      ]
     },
     "execution_count": 20,
     "metadata": {},
     "output_type": "execute_result"
    },
    {
     "data": {
      "image/png": "[encoded data removed]",
      "text/plain": [
       "<Figure size 432x288 with 2 Axes>"
      ]
     },
     "metadata": {
      "needs_background": "light"
     },
     "output_type": "display_data"
    }
   ],
   "source": [
    "# Confusion Matrix for the KNN Model\n",
    "plot_confusion_matrix(clf, x_test, y_test)"
   ]
  },
  {
   "cell_type": "code",
   "execution_count": 21,
   "metadata": {},
   "outputs": [
    {
     "data": {
      "text/plain": [
       "MLPClassifier(hidden_layer_sizes=(32, 16, 8, 4, 2, 2), max_iter=1000,\n",
       "              random_state=1)"
      ]
     },
     "execution_count": 21,
     "metadata": {},
     "output_type": "execute_result"
    }
   ],
   "source": [
    "# Multilayer Perceptron Model\n",
    "from sklearn.neural_network import MLPClassifier\n",
    "clf = MLPClassifier(solver='adam', alpha=1e-4,\n",
    "                     hidden_layer_sizes=(32,16,8,4,2, 2), random_state=1,max_iter=1000)\n",
    "clf.fit(x_train, y_train)"
   ]
  },
  {
   "cell_type": "code",
   "execution_count": 22,
   "metadata": {
    "scrolled": true
   },
   "outputs": [
    {
     "name": "stdout",
     "output_type": "stream",
     "text": [
      "MLP accuracy is:  0.9977477477477478\n",
      "MLP Precision is:  0.9990234375\n",
      "MLP Recall is:  0.9980487804878049\n"
     ]
    }
   ],
   "source": [
    "# Evaluation Metrics\n",
    "# Accuracy\n",
    "MLP_acc = clf.score(x_test, y_test)\n",
    "print(\"MLP accuracy is: \",MLP_acc)\n",
    "\n",
    "# Precision\n",
    "y_pred = clf.predict(x_test)\n",
    "MLP_precision_score = precision_score(y_test,y_pred)\n",
    "print(\"MLP Precision is: \",MLP_precision_score)\n",
    "\n",
    "# Recall (Senstivity)\n",
    "MLP_recall = recall_score(y_test,y_pred)\n",
    "print(\"MLP Recall is: \",MLP_recall)"
   ]
  },
  {
   "cell_type": "code",
   "execution_count": 23,
   "metadata": {},
   "outputs": [
    {
     "data": {
      "text/plain": [
       "<sklearn.metrics._plot.confusion_matrix.ConfusionMatrixDisplay at 0x29094c39070>"
      ]
     },
     "execution_count": 23,
     "metadata": {},
     "output_type": "execute_result"
    },
    {
     "data": {
      "image/png": "[encoded data removed]",
      "text/plain": [
       "<Figure size 432x288 with 2 Axes>"
      ]
     },
     "metadata": {
      "needs_background": "light"
     },
     "output_type": "display_data"
    }
   ],
   "source": [
    "#ploting the confusion matrix \n",
    "plot_confusion_matrix(clf, x_test, y_test) "
   ]
  },
  {
   "cell_type": "markdown",
   "metadata": {},
   "source": [
    "# Evaluation Metrics\n",
    "* Accuracy is the ratio of correctly predicted labels to the whole test set\n",
    "* Precision represents the model's positive predections that are correct.  P = (TP/(TP+FP)\n",
    "* Recall is percent of postive cases that the model predicts correctly.    RC = (TP/(TP+FN)"
   ]
  },
  {
   "cell_type": "markdown",
   "metadata": {},
   "source": [
    "# Conclusion\n",
    "According to the results from the evaluation metrics shown above for both KNN and MLP models,\n",
    "we can clearly see that the MLP model overperfoms the KNN model in terms of all 3 metrics used to evaluate each one.\n",
    "Hence, we would use MLP model for this specific problem."
   ]
  },
  {
   "cell_type": "code",
   "execution_count": null,
   "metadata": {},
   "outputs": [],
   "source": []
  }
 ],
 "metadata": {
  "kernelspec": {
   "display_name": "Python 3",
   "language": "python",
   "name": "python3"
  },
  "language_info": {
   "codemirror_mode": {
    "name": "ipython",
    "version": 3
   },
   "file_extension": ".py",
   "mimetype": "text/x-python",
   "name": "python",
   "nbconvert_exporter": "python",
   "pygments_lexer": "ipython3",
   "version": "3.8.8"
  }
 },
 "nbformat": 4,
 "nbformat_minor": 4
}
